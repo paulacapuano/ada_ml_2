{
 "cells": [
  {
   "cell_type": "code",
   "execution_count": 1,
   "metadata": {},
   "outputs": [],
   "source": [
    "import pandas as pd\n",
    "import numpy as np\n",
    "from sklearn.model_selection import train_test_split\n",
    "from sklearn.preprocessing import StandardScaler, OneHotEncoder\n",
    "from sklearn.impute import SimpleImputer\n",
    "from sklearn.compose import ColumnTransformer\n",
    "from sklearn.svm import SVC\n",
    "\n",
    "from sklearn.metrics import confusion_matrix, ConfusionMatrixDisplay, classification_report, RocCurveDisplay\n",
    "import matplotlib.pyplot as plt"
   ]
  },
  {
   "cell_type": "code",
   "execution_count": null,
   "metadata": {},
   "outputs": [],
   "source": [
    "#função para automatizar as métricas\n",
    "def metricas_classificacao(estimator, X_train, X_test, y_train, y_test):\n",
    "\n",
    "    print(\"\\nMétricas de avaliação de treino:\")\n",
    "    y_pred_train = estimator.predict(X_train)\n",
    "    cm_train = confusion_matrix(y_train, y_pred_train)\n",
    "    ConfusionMatrixDisplay(cm_train).plot(cmap='viridis')\n",
    "    plt.show()\n",
    "    print(classification_report(y_train, y_pred_train))\n",
    "    RocCurveDisplay.from_estimator(estimator, X_train, y_train)\n",
    "\n",
    "    print(\"\\nMétricas de avaliação de teste:\")\n",
    "    y_pred_test = estimator.predict(X_test)\n",
    "    cm_test = confusion_matrix(y_test, y_pred_test)\n",
    "    ConfusionMatrixDisplay(cm_test).plot(cmap='viridis')\n",
    "    plt.show()\n",
    "    print(classification_report(y_test, y_pred_test))\n",
    "    RocCurveDisplay.from_estimator(estimator, X_test, y_test)"
   ]
  },
  {
   "cell_type": "code",
   "execution_count": 4,
   "metadata": {},
   "outputs": [],
   "source": [
    "#carregamento dos dados\n",
    "df = pd.read_csv('train_treated.csv')\n",
    "\n",
    "X = df.drop(columns=\"credit_score\")\n",
    "y = df[\"credit_score\"]"
   ]
  },
  {
   "cell_type": "code",
   "execution_count": null,
   "metadata": {},
   "outputs": [],
   "source": [
    "#divisião dos dados de treino e teste\n",
    "X_train, X_test, y_train, y_test = train_test_split(X, y, test_size=0.2, random_state=42, stratify=y)"
   ]
  },
  {
   "cell_type": "code",
   "execution_count": null,
   "metadata": {},
   "outputs": [],
   "source": [
    "#transformação das features numéricas\n",
    "features_numerics = X_train.select_dtypes(include=np.number).columns.tolist()\n",
    "\n",
    "num_imputer = SimpleImputer(strategy=\"median\")\n",
    "X_train[features_numerics] = num_imputer.fit_transform(X_train[features_numerics])\n",
    "\n",
    "scaler = StandardScaler()\n",
    "X_train[features_numerics] = scaler.fit_transform(X_train[features_numerics])"
   ]
  },
  {
   "cell_type": "code",
   "execution_count": null,
   "metadata": {},
   "outputs": [],
   "source": [
    "#pré-processamento dos dados de teste\n",
    "X_test[features_numerics] = num_imputer.transform(X_test[features_numerics])\n",
    "X_test[features_numerics] = scaler.transform(X_test[features_numerics])"
   ]
  },
  {
   "cell_type": "code",
   "execution_count": null,
   "metadata": {},
   "outputs": [],
   "source": [
    "# Treinando o modelo SVM\n",
    "svm_model = SVC(kernel='linear', C=1.0, random_state=42)\n",
    "svm_model.fit(X_train, y_train)\n",
    "\n",
    "# Avaliar o modelo com as métricas de classificação\n",
    "metricas_classificacao(svm_model, X_train, X_test, y_train, y_test)"
   ]
  }
 ],
 "metadata": {
  "kernelspec": {
   "display_name": "Python 3",
   "language": "python",
   "name": "python3"
  },
  "language_info": {
   "codemirror_mode": {
    "name": "ipython",
    "version": 3
   },
   "file_extension": ".py",
   "mimetype": "text/x-python",
   "name": "python",
   "nbconvert_exporter": "python",
   "pygments_lexer": "ipython3",
   "version": "3.11.3"
  }
 },
 "nbformat": 4,
 "nbformat_minor": 2
}
